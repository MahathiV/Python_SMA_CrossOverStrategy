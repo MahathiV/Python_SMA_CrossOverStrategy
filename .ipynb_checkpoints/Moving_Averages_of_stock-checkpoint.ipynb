{
 "cells": [
  {
   "cell_type": "code",
   "execution_count": 27,
   "metadata": {},
   "outputs": [],
   "source": [
    "#importing libraries\n",
    "import matplotlib.pyplot as plt\n",
    "import numpy as np\n",
    "import os\n",
    "import pandas as pd\n",
    "from datetime import datetime"
   ]
  },
  {
   "cell_type": "code",
   "execution_count": 28,
   "metadata": {},
   "outputs": [
    {
     "data": {
      "text/html": [
       "<div>\n",
       "<style scoped>\n",
       "    .dataframe tbody tr th:only-of-type {\n",
       "        vertical-align: middle;\n",
       "    }\n",
       "\n",
       "    .dataframe tbody tr th {\n",
       "        vertical-align: top;\n",
       "    }\n",
       "\n",
       "    .dataframe thead th {\n",
       "        text-align: right;\n",
       "    }\n",
       "</style>\n",
       "<table border=\"1\" class=\"dataframe\">\n",
       "  <thead>\n",
       "    <tr style=\"text-align: right;\">\n",
       "      <th></th>\n",
       "      <th>Date</th>\n",
       "      <th>Open</th>\n",
       "      <th>High</th>\n",
       "      <th>Low</th>\n",
       "      <th>Close</th>\n",
       "      <th>Adj Close</th>\n",
       "      <th>Volume</th>\n",
       "    </tr>\n",
       "  </thead>\n",
       "  <tbody>\n",
       "    <tr>\n",
       "      <td>0</td>\n",
       "      <td>1/24/2019</td>\n",
       "      <td>144.429993</td>\n",
       "      <td>145.759995</td>\n",
       "      <td>144.330002</td>\n",
       "      <td>145.470001</td>\n",
       "      <td>143.540604</td>\n",
       "      <td>16976300</td>\n",
       "    </tr>\n",
       "    <tr>\n",
       "      <td>1</td>\n",
       "      <td>1/25/2019</td>\n",
       "      <td>146.619995</td>\n",
       "      <td>147.639999</td>\n",
       "      <td>146.429993</td>\n",
       "      <td>147.339996</td>\n",
       "      <td>145.385788</td>\n",
       "      <td>22266900</td>\n",
       "    </tr>\n",
       "    <tr>\n",
       "      <td>2</td>\n",
       "      <td>1/28/2019</td>\n",
       "      <td>145.960007</td>\n",
       "      <td>146.910004</td>\n",
       "      <td>145.369995</td>\n",
       "      <td>146.550003</td>\n",
       "      <td>144.606277</td>\n",
       "      <td>22784700</td>\n",
       "    </tr>\n",
       "    <tr>\n",
       "      <td>3</td>\n",
       "      <td>1/29/2019</td>\n",
       "      <td>146.710007</td>\n",
       "      <td>146.820007</td>\n",
       "      <td>145.880005</td>\n",
       "      <td>146.199997</td>\n",
       "      <td>144.260925</td>\n",
       "      <td>12084800</td>\n",
       "    </tr>\n",
       "    <tr>\n",
       "      <td>4</td>\n",
       "      <td>1/30/2019</td>\n",
       "      <td>146.979996</td>\n",
       "      <td>148.339996</td>\n",
       "      <td>145.679993</td>\n",
       "      <td>147.800003</td>\n",
       "      <td>145.839691</td>\n",
       "      <td>25516900</td>\n",
       "    </tr>\n",
       "    <tr>\n",
       "      <td>...</td>\n",
       "      <td>...</td>\n",
       "      <td>...</td>\n",
       "      <td>...</td>\n",
       "      <td>...</td>\n",
       "      <td>...</td>\n",
       "      <td>...</td>\n",
       "      <td>...</td>\n",
       "    </tr>\n",
       "    <tr>\n",
       "      <td>248</td>\n",
       "      <td>1/17/2020</td>\n",
       "      <td>170.279999</td>\n",
       "      <td>170.559998</td>\n",
       "      <td>168.669998</td>\n",
       "      <td>169.070007</td>\n",
       "      <td>169.070007</td>\n",
       "      <td>18306400</td>\n",
       "    </tr>\n",
       "    <tr>\n",
       "      <td>249</td>\n",
       "      <td>1/21/2020</td>\n",
       "      <td>168.360001</td>\n",
       "      <td>168.990005</td>\n",
       "      <td>167.270004</td>\n",
       "      <td>167.669998</td>\n",
       "      <td>167.669998</td>\n",
       "      <td>17935100</td>\n",
       "    </tr>\n",
       "    <tr>\n",
       "      <td>250</td>\n",
       "      <td>1/22/2020</td>\n",
       "      <td>168.190002</td>\n",
       "      <td>168.619995</td>\n",
       "      <td>167.179993</td>\n",
       "      <td>167.559998</td>\n",
       "      <td>167.559998</td>\n",
       "      <td>14916300</td>\n",
       "    </tr>\n",
       "    <tr>\n",
       "      <td>251</td>\n",
       "      <td>1/23/2020</td>\n",
       "      <td>167.100006</td>\n",
       "      <td>167.970001</td>\n",
       "      <td>165.449997</td>\n",
       "      <td>167.449997</td>\n",
       "      <td>167.449997</td>\n",
       "      <td>15947900</td>\n",
       "    </tr>\n",
       "    <tr>\n",
       "      <td>252</td>\n",
       "      <td>1/24/2020</td>\n",
       "      <td>168.009995</td>\n",
       "      <td>167.979996</td>\n",
       "      <td>164.230103</td>\n",
       "      <td>164.369995</td>\n",
       "      <td>164.369995</td>\n",
       "      <td>12089417</td>\n",
       "    </tr>\n",
       "  </tbody>\n",
       "</table>\n",
       "<p>253 rows × 7 columns</p>\n",
       "</div>"
      ],
      "text/plain": [
       "          Date        Open        High         Low       Close   Adj Close  \\\n",
       "0    1/24/2019  144.429993  145.759995  144.330002  145.470001  143.540604   \n",
       "1    1/25/2019  146.619995  147.639999  146.429993  147.339996  145.385788   \n",
       "2    1/28/2019  145.960007  146.910004  145.369995  146.550003  144.606277   \n",
       "3    1/29/2019  146.710007  146.820007  145.880005  146.199997  144.260925   \n",
       "4    1/30/2019  146.979996  148.339996  145.679993  147.800003  145.839691   \n",
       "..         ...         ...         ...         ...         ...         ...   \n",
       "248  1/17/2020  170.279999  170.559998  168.669998  169.070007  169.070007   \n",
       "249  1/21/2020  168.360001  168.990005  167.270004  167.669998  167.669998   \n",
       "250  1/22/2020  168.190002  168.619995  167.179993  167.559998  167.559998   \n",
       "251  1/23/2020  167.100006  167.970001  165.449997  167.449997  167.449997   \n",
       "252  1/24/2020  168.009995  167.979996  164.230103  164.369995  164.369995   \n",
       "\n",
       "       Volume  \n",
       "0    16976300  \n",
       "1    22266900  \n",
       "2    22784700  \n",
       "3    12084800  \n",
       "4    25516900  \n",
       "..        ...  \n",
       "248  18306400  \n",
       "249  17935100  \n",
       "250  14916300  \n",
       "251  15947900  \n",
       "252  12089417  \n",
       "\n",
       "[253 rows x 7 columns]"
      ]
     },
     "execution_count": 28,
     "metadata": {},
     "output_type": "execute_result"
    }
   ],
   "source": [
    "# Reading Csv file\n",
    "\n",
    "file_path = os.path.join(\"Resources\",\"IWM.csv\")\n",
    "stock_df = pd.read_csv(file_path)\n",
    "stock_df"
   ]
  },
  {
   "cell_type": "code",
   "execution_count": 29,
   "metadata": {},
   "outputs": [],
   "source": [
    "# moving average for 50 day and 100 day period in one year\n",
    "short_term = 50\n",
    "long_term = 100"
   ]
  },
  {
   "cell_type": "code",
   "execution_count": 30,
   "metadata": {},
   "outputs": [],
   "source": [
    "# Calculating Moving Average for 50 day period\n",
    "def short_term_MA(close_price,short_window):\n",
    "        \n",
    "    weights = np.repeat(1.0,short_window)/short_window\n",
    "    MA_50 = np.convolve(close_price,weights,'valid')\n",
    "    return MA_50   "
   ]
  },
  {
   "cell_type": "code",
   "execution_count": 31,
   "metadata": {},
   "outputs": [],
   "source": [
    "fifty_day = short_term_MA(stock_df[\"Close\"],short_term)\n",
    "#fifty_day "
   ]
  },
  {
   "cell_type": "code",
   "execution_count": 32,
   "metadata": {},
   "outputs": [],
   "source": [
    "#len(fifty_day)"
   ]
  },
  {
   "cell_type": "code",
   "execution_count": 33,
   "metadata": {},
   "outputs": [],
   "source": [
    "# Calculating Moving Average for 100 day period\n",
    "\n",
    "def long_term_MA(close_price,long_window):\n",
    "    \n",
    "    weights = np.repeat(1.0,long_window)/long_window\n",
    "    MA_100 = np.convolve(close_price,weights,'valid')\n",
    "    return MA_100"
   ]
  },
  {
   "cell_type": "code",
   "execution_count": 34,
   "metadata": {},
   "outputs": [],
   "source": [
    "hundred_day = long_term_MA(stock_df[\"Close\"],long_term)\n",
    "#hundred_day "
   ]
  },
  {
   "cell_type": "code",
   "execution_count": 35,
   "metadata": {},
   "outputs": [],
   "source": [
    "#len(hundred_day)"
   ]
  },
  {
   "cell_type": "code",
   "execution_count": 36,
   "metadata": {},
   "outputs": [],
   "source": [
    "#fifty_period_ma = close_price.rolling(window=50).mean()"
   ]
  },
  {
   "cell_type": "code",
   "execution_count": 37,
   "metadata": {},
   "outputs": [],
   "source": [
    "# grabbing corresponding dates for 50 day period\n",
    "\n",
    "date_ls_50 = []\n",
    "for i in range(len(stock_df)):\n",
    "    if i>=short_term-1:\n",
    "        date_ls_50.append(stock_df[\"Date\"][i])\n",
    "#date_ls_50   "
   ]
  },
  {
   "cell_type": "code",
   "execution_count": 38,
   "metadata": {},
   "outputs": [],
   "source": [
    "# grabbing corresponding dates for 100 day period\n",
    "\n",
    "date_ls_100 = []\n",
    "for i in range(len(stock_df)):\n",
    "    if i>=long_term-1:\n",
    "        date_ls_100.append(stock_df[\"Date\"][i])\n",
    "#date_ls_100"
   ]
  },
  {
   "cell_type": "code",
   "execution_count": 39,
   "metadata": {},
   "outputs": [],
   "source": [
    "#converting String dates to Date type\n",
    "ls_50 = []\n",
    "\n",
    "for i in range(len(date_ls_50)):\n",
    "    ls_50.append(datetime.strptime(date_ls_50[i], \"%m/%d/%Y\"))"
   ]
  },
  {
   "cell_type": "code",
   "execution_count": 40,
   "metadata": {},
   "outputs": [],
   "source": [
    "#converting String dates to Date type\n",
    "\n",
    "ls_100 = []\n",
    "\n",
    "for i in range(len(date_ls_100)):\n",
    "    ls_100.append(datetime.strptime(date_ls_100[i], \"%m/%d/%Y\"))"
   ]
  },
  {
   "cell_type": "code",
   "execution_count": 41,
   "metadata": {},
   "outputs": [
    {
     "data": {
      "image/png": "[encoded data removed]",
      "text/plain": [
       "<Figure size 432x288 with 1 Axes>"
      ]
     },
     "metadata": {
      "needs_background": "light"
     },
     "output_type": "display_data"
    },
    {
     "data": {
      "text/plain": [
       "<Figure size 432x288 with 0 Axes>"
      ]
     },
     "metadata": {},
     "output_type": "display_data"
    }
   ],
   "source": [
    "# plotting the data \n",
    "\n",
    "plt.plot(ls_50,fifty_day,label=\"MA - 50\")\n",
    "plt.plot(ls_100,hundred_day,label = \"MA - 100\")\n",
    "plt.title(\"Simple Moving Averages-Cross Over Strategy\")\n",
    "plt.xlabel(\"Date of Closing Price\")\n",
    "plt.legend(loc=\"best\")\n",
    "\n",
    "#mini = min(ls_50)\n",
    "#maxi = max(ls_100)\n",
    "#plt.xlim(mini,maxi)\n",
    "\n",
    "plt.xticks(rotation=45)\n",
    "plt.show()\n",
    "plt.savefig(\"SMA-crossover.png\")"
   ]
  },
  {
   "cell_type": "code",
   "execution_count": 42,
   "metadata": {},
   "outputs": [
    {
     "name": "stdout",
     "output_type": "stream",
     "text": [
      "Cross Over Strategy - Since the line Moving Average - 50 period crossed above Moving Average - 100 period , its a 'Golden Cross'\n"
     ]
    }
   ],
   "source": [
    "print(f\"Cross Over Strategy - Since the line Moving Average - 50 period crossed above Moving Average - 100 period , its a 'Golden Cross'\")"
   ]
  },
  {
   "cell_type": "code",
   "execution_count": null,
   "metadata": {},
   "outputs": [],
   "source": [
    "\n"
   ]
  }
 ],
 "metadata": {
  "kernelspec": {
   "display_name": "Python 3.7.3 64-bit ('mahat': virtualenv)",
   "language": "python",
   "name": "python37364bitmahatvirtualenv6ca4799eb20a4cd5aacf7e0befeb6a47"
  },
  "language_info": {
   "codemirror_mode": {
    "name": "ipython",
    "version": 3
   },
   "file_extension": ".py",
   "mimetype": "text/x-python",
   "name": "python",
   "nbconvert_exporter": "python",
   "pygments_lexer": "ipython3",
   "version": "3.7.3"
  }
 },
 "nbformat": 4,
 "nbformat_minor": 2
}
